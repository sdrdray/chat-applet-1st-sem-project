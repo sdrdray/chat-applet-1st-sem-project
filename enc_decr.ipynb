{
 "cells": [
  {
   "cell_type": "code",
   "execution_count": null,
   "metadata": {},
   "outputs": [],
   "source": [
    "# decrypt\n",
    "from Crypto.Cipher import AES\n",
    "import base64\n",
    "\n",
    "# Provided key\n",
    "key = b'\\xda\\x0f\\xe3\\xb8*\\xf9\\xa8~\\xbe9Bp[c\\xc0Ef\\x9d\\x9a{\\x9cmB\\xa3\\x97q(\\x0b\\x0e\\x10KU'\n",
    "\n",
    "def decrypt_message(encrypted_message):\n",
    "    # Decode the base64 encoded message\n",
    "    encrypted_message = base64.b64decode(encrypted_message)\n",
    "    \n",
    "    # Extract the nonce and the ciphertext\n",
    "    nonce = encrypted_message[:16]\n",
    "    ciphertext = encrypted_message[16:]\n",
    "    \n",
    "    # Create the cipher object and decrypt the message\n",
    "    cipher = AES.new(key, AES.MODE_EAX, nonce=nonce)\n",
    "    decrypted_message = cipher.decrypt(ciphertext).decode('utf-8')\n",
    "    \n",
    "    return decrypted_message\n",
    "\n",
    "if __name__ == \"__main__\":\n",
    "    encrypted_message = input(\"Enter the encrypted message: \")\n",
    "    decrypted_message = decrypt_message(encrypted_message)\n",
    "    print(f\"Decrypted message: {decrypted_message}\")\n"
   ]
  },
  {
   "cell_type": "code",
   "execution_count": null,
   "metadata": {},
   "outputs": [],
   "source": [
    "from Crypto.Cipher import AES\n",
    "import binascii\n",
    "\n",
    "# Provided key\n",
    "key = b'\\xda\\x0f\\xe3\\xb8*\\xf9\\xa8~\\xbe9Bp[c\\xc0Ef\\x9d\\x9a{\\x9cmB\\xa3\\x97q(\\x0b\\x0e\\x10KU'\n",
    "\n",
    "def decrypt_message(encrypted_message_hex):\n",
    "    try:\n",
    "        # Convert hex to bytes\n",
    "        encrypted_message = binascii.unhexlify(encrypted_message_hex)\n",
    "        \n",
    "        # Extract the nonce and the ciphertext\n",
    "        nonce = encrypted_message[:16]\n",
    "        ciphertext = encrypted_message[16:]\n",
    "        \n",
    "        # Create the cipher object and decrypt the message\n",
    "        cipher = AES.new(key, AES.MODE_EAX, nonce=nonce)\n",
    "        decrypted_message = cipher.decrypt(ciphertext)\n",
    "        \n",
    "        # Remove padding if necessary\n",
    "        pad_len = decrypted_message[-1]\n",
    "        if pad_len < 16:\n",
    "            decrypted_message = decrypted_message[:-pad_len]\n",
    "        \n",
    "        # Decode message to UTF-8\n",
    "        decrypted_message = decrypted_message.decode('utf-8')\n",
    "        return decrypted_message\n",
    "    except (ValueError, KeyError, UnicodeDecodeError, IndexError) as e:\n",
    "        return f\"Decryption error: {str(e)}\"\n",
    "\n",
    "if __name__ == \"__main__\":\n",
    "    encrypted_message_hex = input(\"Enter the encrypted message (hex): \")\n",
    "    decrypted_message = decrypt_message(encrypted_message_hex)\n",
    "    print(f\"Decrypted message: {decrypted_message}\")\n"
   ]
  }
 ],
 "metadata": {
  "kernelspec": {
   "display_name": "Python 3",
   "language": "python",
   "name": "python3"
  },
  "language_info": {
   "codemirror_mode": {
    "name": "ipython",
    "version": 3
   },
   "file_extension": ".py",
   "mimetype": "text/x-python",
   "name": "python",
   "nbconvert_exporter": "python",
   "pygments_lexer": "ipython3",
   "version": "3.11.9"
  }
 },
 "nbformat": 4,
 "nbformat_minor": 2
}
